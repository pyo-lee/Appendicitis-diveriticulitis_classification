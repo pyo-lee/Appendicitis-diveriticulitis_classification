{
 "cells": [
  {
   "cell_type": "code",
   "execution_count": 2,
   "metadata": {},
   "outputs": [],
   "source": [
    "import os\n",
    "import glob\n",
    "import shutil"
   ]
  },
  {
   "cell_type": "code",
   "execution_count": 3,
   "metadata": {},
   "outputs": [],
   "source": [
    "folder = []\n",
    "split_num =5\n",
    "# appendicitis, diverticulitis, no_lesion\n",
    "label = []\n",
    "path='D:/appendicitis/4_exp2_rgb/5_appendicitis-diverticulitis/'\n",
    "folder.append(path+'train')\n",
    "folder.append(path+'test')\n",
    "for i in range(1, split_num+1):\n",
    "    folder.append(path+'train/exp%d' % i)\n",
    "    folder.append(path+'train/exp%d/appendicitis' % i)\n",
    "    folder.append(path+'train/exp%d/diverticulitis' % i)\n",
    "    folder.append(path+'test/exp%d' % i)\n",
    "    folder.append(path+'test/exp%d/appendicitis' % i)\n",
    "    folder.append(path+'test/exp%d/diverticulitis' % i)\n",
    "    folder.append(path+'npy/exp%d' % i)\n",
    "\n",
    "for j in range(len(folder)):\n",
    "    try:\n",
    "        os.makedirs(folder[j])\n",
    "    except:\n",
    "        print(\"folder1 Failed to create directory!!!!!\")"
   ]
  },
  {
   "cell_type": "code",
   "execution_count": 4,
   "metadata": {},
   "outputs": [
    {
     "name": "stdout",
     "output_type": "stream",
     "text": [
      "1959 823\n"
     ]
    }
   ],
   "source": [
    "spilt_num=5\n",
    "\n",
    "path1='D:/appendicitis/1_data_rgb/Appendicitis_rgb_img_256/'\n",
    "path2='D:/appendicitis/1_data_rgb/Diverticulitis_rgb_img/'\n",
    "\n",
    "path1_list=os.listdir(path1)\n",
    "path2_list=os.listdir(path2)\n",
    "all_img1=0\n",
    "all_img2=0\n",
    "\n",
    "for path in path1_list:\n",
    "    img_path1=path1+'/'+path\n",
    "    img_path1_list=glob.glob(img_path1+'/*.png')\n",
    "    all_img1+=len(img_path1_list)\n",
    "    \n",
    "for path in path2_list:\n",
    "    img_path2=path2+'/'+path\n",
    "    img_path2_list=glob.glob(img_path2+'/*.png')\n",
    "    all_img2+=len(img_path2_list)\n",
    "\n",
    "print(all_img1, all_img2)"
   ]
  },
  {
   "cell_type": "code",
   "execution_count": 5,
   "metadata": {},
   "outputs": [
    {
     "name": "stdout",
     "output_type": "stream",
     "text": [
      "391.8 164.6\n"
     ]
    }
   ],
   "source": [
    "fold1=all_img1/spilt_num\n",
    "fold2=all_img2/spilt_num\n",
    "print(fold1,fold2)"
   ]
  },
  {
   "cell_type": "code",
   "execution_count": 98,
   "metadata": {},
   "outputs": [
    {
     "name": "stdout",
     "output_type": "stream",
     "text": [
      "exp1 train case :  198 exp1 test case :  56\n",
      "exp2 train case :  213 exp2 test case :  41\n",
      "exp3 train case :  199 exp3 test case :  55\n",
      "exp4 train case :  204 exp4 test case :  50\n",
      "exp5 train case :  202 exp5 test case :  52\n"
     ]
    }
   ],
   "source": [
    "num=1\n",
    "count=0\n",
    "case=0\n",
    "case_data=[]\n",
    "path='D:/appendicitis/4_exp2_rgb/5_appendicitis-diverticulitis/'\n",
    "for i in range(len(path1_list)):\n",
    "    folder_path1=path1+'/'+path1_list[i]\n",
    "    path1_img_list=os.listdir(folder_path1)\n",
    "#     path1_img_list\n",
    "    if count<=fold1:\n",
    "        for k in range(len(path1_img_list)):\n",
    "            src=folder_path1+'/'+path1_img_list[k]\n",
    "            dst = path+'test/exp%d/diverticulitis'%num+'/'+path1_img_list[k]\n",
    "            shutil.copy(src, dst)\n",
    "            count+=1\n",
    "        case+=1\n",
    "    else:\n",
    "        cd='exp%d train case : %d'%(num, len(path1_list)-case), 'exp%d test case : %d'%(num, case)\n",
    "        case_data.append(cd)\n",
    "        print('exp%d train case : '%num, len(path1_list)-case, 'exp%d test case : '%num, case)\n",
    "        num+=1\n",
    "        count=0\n",
    "        case=1\n",
    "        if num>=5:\n",
    "            for k in range(len(path1_img_list)):\n",
    "                src=folder_path1+'/'+path1_img_list[k]\n",
    "                dst = path+'test/exp5/diverticulitis'+'/'+path1_img_list[k]\n",
    "                shutil.copy(src, dst)\n",
    "        else:\n",
    "            for k in range(len(path1_img_list)):\n",
    "                src=folder_path1+'/'+path1_img_list[k]\n",
    "                dst = path+'test/exp%d/diverticulitis'%num+'/'+path1_img_list[k]\n",
    "                shutil.copy(src, dst)\n",
    "cd='exp%d train case : %d'%(num, len(path1_list)-case), 'exp%d test case : %d'%(num, case)\n",
    "case_data.append(cd)  \n",
    "print('exp%d train case : '%num, len(path1_list)-case, 'exp%d test case : '%num, case)\n"
   ]
  },
  {
   "cell_type": "code",
   "execution_count": 99,
   "metadata": {},
   "outputs": [
    {
     "data": {
      "text/plain": [
       "165"
      ]
     },
     "execution_count": 99,
     "metadata": {},
     "output_type": "execute_result"
    }
   ],
   "source": [
    "num=1\n",
    "path=glob.glob('D:/appendicitis/2_exp2_rgb/2_appendicitis-diverticultis/test/exp%d/diverticulitis'%num+'/*.png')\n",
    "len(path)"
   ]
  },
  {
   "cell_type": "code",
   "execution_count": 100,
   "metadata": {},
   "outputs": [
    {
     "name": "stdout",
     "output_type": "stream",
     "text": [
      "[2, 3, 4, 5]\n",
      "[1, 3, 4, 5]\n",
      "[1, 2, 4, 5]\n",
      "[1, 2, 3, 5]\n",
      "[1, 2, 3, 4]\n"
     ]
    }
   ],
   "source": [
    "cvs=[1,2,3,4,5]\n",
    "spilt_num=5\n",
    "num=1\n",
    "for i in range(spilt_num):\n",
    "    cvs=[1,2,3,4,5]\n",
    "    del(cvs[i])\n",
    "    print(cvs)\n",
    "    test_imgs=glob.glob(path+'test/exp%d/diverticulitis'%num+'/*.png')\n",
    "    for cv in cvs:\n",
    "        for k in range(len(test_imgs)):\n",
    "            dst=path+'train/exp%d/diverticulitis/'%cv\n",
    "            shutil.copy(test_imgs[k], dst)\n",
    "    num+=1"
   ]
  },
  {
   "cell_type": "code",
   "execution_count": 101,
   "metadata": {},
   "outputs": [
    {
     "name": "stdout",
     "output_type": "stream",
     "text": [
      "cv1\n",
      "train : 658 test : 165\n",
      "cv2\n",
      "train : 655 test : 168\n",
      "cv3\n",
      "train : 652 test : 171\n",
      "cv4\n",
      "train : 654 test : 169\n",
      "cv5\n",
      "train : 673 test : 150\n"
     ]
    }
   ],
   "source": [
    "cvs=[1,2,3,4,5]\n",
    "\n",
    "for cv in cvs:\n",
    "    train=path+'train/exp%d/diverticulitis/'%cv\n",
    "    test=path+'test/exp%d/diverticulitis/'%cv\n",
    "    trains=glob.glob(train+'*.png')\n",
    "    tests=glob.glob(test+'*.png')\n",
    "    print('cv%d'%cv)\n",
    "    print('train : %d'%len(trains), 'test : %s'%len(tests))"
   ]
  },
  {
   "cell_type": "code",
   "execution_count": 16,
   "metadata": {},
   "outputs": [],
   "source": [
    "######################################################################"
   ]
  },
  {
   "cell_type": "code",
   "execution_count": 11,
   "metadata": {},
   "outputs": [
    {
     "name": "stdout",
     "output_type": "stream",
     "text": [
      "folder1 Failed to create directory!!!!!\n",
      "folder1 Failed to create directory!!!!!\n",
      "folder1 Failed to create directory!!!!!\n",
      "folder1 Failed to create directory!!!!!\n",
      "folder1 Failed to create directory!!!!!\n",
      "folder1 Failed to create directory!!!!!\n",
      "folder1 Failed to create directory!!!!!\n",
      "folder1 Failed to create directory!!!!!\n",
      "folder1 Failed to create directory!!!!!\n",
      "folder1 Failed to create directory!!!!!\n",
      "folder1 Failed to create directory!!!!!\n",
      "folder1 Failed to create directory!!!!!\n",
      "folder1 Failed to create directory!!!!!\n",
      "folder1 Failed to create directory!!!!!\n",
      "folder1 Failed to create directory!!!!!\n",
      "folder1 Failed to create directory!!!!!\n",
      "folder1 Failed to create directory!!!!!\n",
      "folder1 Failed to create directory!!!!!\n",
      "folder1 Failed to create directory!!!!!\n",
      "folder1 Failed to create directory!!!!!\n"
     ]
    }
   ],
   "source": [
    "folder = []\n",
    "split_num =5\n",
    "# appendicitis, diverticulitis, no_lesion\n",
    "label = []\n",
    "for i in range(1, split_num+1):\n",
    "    path='D:/appendicitis/4_exp2_rgb/5_appendicitis-no_lesion/'\n",
    "    folder.append(path)\n",
    "    folder.append(path+'data')\n",
    "    folder.append(path+'result')\n",
    "    folder.append(path+'data'+'/train')\n",
    "    folder.append(path+'data'+'/test')\n",
    "    folder.append(path+'data'+'/train/exp%d' % i)\n",
    "    folder.append(path+'data'+'/train/exp%d/appendicitis' % i)\n",
    "    folder.append(path+'data'+'/train/exp%d/no_lesion' % i)\n",
    "    folder.append(path+'data'+'/test/exp%d' % i)\n",
    "    folder.append(path+'data'+'/test/exp%d/appendicitis' % i)\n",
    "    folder.append(path+'data'+'/test/exp%d/no_lesion' % i)\n",
    "    folder.append(path+'npy/exp%d' % i)\n",
    "\n",
    "for j in range(len(folder)):\n",
    "    try:\n",
    "        os.makedirs(folder[j])\n",
    "    except:\n",
    "        print(\"folder1 Failed to create directory!!!!!\")"
   ]
  },
  {
   "cell_type": "code",
   "execution_count": 12,
   "metadata": {},
   "outputs": [
    {
     "name": "stdout",
     "output_type": "stream",
     "text": [
      "1959 640\n",
      "391.8 128.0\n"
     ]
    }
   ],
   "source": [
    "spilt_num=5\n",
    "# appendicitis, diverticultis, no_lesion\n",
    "path1='D:/appendicitis/1_data_rgb/Appendicitis_rgb_img_256/'\n",
    "path2='D:/appendicitis/1_data_rgb/No_lesion_rgb_img/'\n",
    "\n",
    "path1_list=os.listdir(path1)\n",
    "path2_list=os.listdir(path2)\n",
    "all_img1=0\n",
    "all_img2=0\n",
    "\n",
    "for path in path1_list:\n",
    "    img_path1=path1+'/'+path\n",
    "    img_path1_list=glob.glob(img_path1+'/*.png')\n",
    "    all_img1+=len(img_path1_list)\n",
    "    \n",
    "for path in path2_list:\n",
    "    img_path2=path2+'/'+path\n",
    "    img_path2_list=glob.glob(img_path2+'/*.png')\n",
    "    all_img2+=len(img_path2_list)\n",
    "    \n",
    "fold1=all_img1/spilt_num\n",
    "fold2=all_img2/spilt_num\n",
    "print(all_img1, all_img2)\n",
    "print(fold1,fold2)"
   ]
  },
  {
   "cell_type": "code",
   "execution_count": 13,
   "metadata": {},
   "outputs": [
    {
     "name": "stdout",
     "output_type": "stream",
     "text": [
      "0\n",
      "exp1 train case :  199 exp1 test case :  47\n",
      "exp2 train case :  192 exp2 test case :  54\n",
      "exp3 train case :  195 exp3 test case :  51\n",
      "exp4 train case :  195 exp4 test case :  51\n",
      "exp5 train case :  203 exp5 test case :  43\n",
      "1\n",
      "exp1 train case :  79 exp1 test case :  21\n",
      "exp2 train case :  77 exp2 test case :  23\n",
      "exp3 train case :  81 exp3 test case :  19\n",
      "exp4 train case :  80 exp4 test case :  20\n",
      "exp5 train case :  83 exp5 test case :  17\n"
     ]
    }
   ],
   "source": [
    "print('0')\n",
    "num=1\n",
    "count=0\n",
    "case=0\n",
    "case_data=[]\n",
    "path='D:/appendicitis/4_exp2_rgb/5_appendicitis-no_lesion/'\n",
    "for i in range(len(path1_list)):\n",
    "    folder_path1=path1+'/'+path1_list[i]\n",
    "    path1_img_list=os.listdir(folder_path1)\n",
    "#     path1_img_list\n",
    "    if count<=fold1:\n",
    "        for k in range(len(path1_img_list)):\n",
    "            src=folder_path1+'/'+path1_img_list[k]\n",
    "            dst = path+'data/test/exp%d/appendicitis'%num+'/'+path1_img_list[k]\n",
    "            shutil.copy(src, dst)\n",
    "            count+=1\n",
    "        case+=1\n",
    "    else:\n",
    "        cd='exp%d train case : %d'%(num, len(path1_list)-case), 'exp%d test case : %d'%(num, case)\n",
    "        case_data.append(cd)\n",
    "        print('exp%d train case : '%num, len(path1_list)-case, 'exp%d test case : '%num, case)\n",
    "        num+=1\n",
    "        count=0\n",
    "        case=1\n",
    "        if num>=5:\n",
    "            for k in range(len(path1_img_list)):\n",
    "                src=folder_path1+'/'+path1_img_list[k]\n",
    "                dst = path+'data/test/exp5/appendicitis'+'/'+path1_img_list[k]\n",
    "                shutil.copy(src, dst)\n",
    "        else:\n",
    "            for k in range(len(path1_img_list)):\n",
    "                src=folder_path1+'/'+path1_img_list[k]\n",
    "                dst = path+'data/test/exp%d/appendicitis'%num+'/'+path1_img_list[k]\n",
    "                shutil.copy(src, dst)\n",
    "cd='exp%d train case : %d'%(num, len(path1_list)-case), 'exp%d test case : %d'%(num, case)\n",
    "case_data.append(cd)  \n",
    "print('exp%d train case : '%num, len(path1_list)-case, 'exp%d test case : '%num, case)\n",
    "\n",
    "##########################################################################################\n",
    "print('1')\n",
    "num=1\n",
    "count=0\n",
    "case=0\n",
    "\n",
    "for i in range(len(path2_list)):\n",
    "    folder_path2=path2+'/'+path2_list[i]\n",
    "    path2_img_list=os.listdir(folder_path2)\n",
    "#     path1_img_list\n",
    "    if count<=fold2:\n",
    "        for k in range(len(path2_img_list)):\n",
    "            src=folder_path2+'/'+path2_img_list[k]\n",
    "            dst = path+'data/test/exp%d/no_lesion'%num+'/'+path2_img_list[k]\n",
    "            shutil.copy(src, dst)\n",
    "            count+=1\n",
    "        case+=1\n",
    "    else:\n",
    "        cd='exp%d train case : %d'%(num, len(path2_list)-case), 'exp%d test case : %d'%(num, case)\n",
    "        case_data.append(cd)\n",
    "        print('exp%d train case : '%num, len(path2_list)-case, 'exp%d test case : '%num, case)\n",
    "        num+=1\n",
    "        count=0\n",
    "        case=1\n",
    "        if num>=5:\n",
    "            for k in range(len(path2_img_list)):\n",
    "                src=folder_path2+'/'+path2_img_list[k]\n",
    "                dst = path+'data/test/exp5/no_lesion'+'/'+path2_img_list[k]\n",
    "                shutil.copy(src, dst)\n",
    "        else:\n",
    "            for k in range(len(path2_img_list)):\n",
    "                src=folder_path2+'/'+path2_img_list[k]\n",
    "                dst = path+'data/test/exp%d/no_lesion'%num+'/'+path2_img_list[k]\n",
    "                shutil.copy(src, dst)\n",
    "cd='exp%d train case : %d'%(num, len(path2_list)-case), 'exp%d test case : %d'%(num, case)\n",
    "case_data.append(cd)  \n",
    "print('exp%d train case : '%num, len(path2_list)-case, 'exp%d test case : '%num, case)\n",
    "\n",
    "############################################################################################\n",
    "cvs=[1,2,3,4,5]\n",
    "labels=['appendicitis', 'no_lesion']#'diverticultis'\n",
    "spilt_num=5\n",
    "\n",
    "for label in labels:\n",
    "    num=1\n",
    "    for i in range(spilt_num):\n",
    "        cvs=[1,2,3,4,5]\n",
    "        del(cvs[i])\n",
    "        #print(cvs)\n",
    "        test_imgs=glob.glob(path+'data/test/exp%d/%s'%(num,label)+'/*.png')\n",
    "        for cv in cvs:\n",
    "            for k in range(len(test_imgs)):\n",
    "                dst=path+'data/train/exp%d/%s/'%(cv,label)\n",
    "                shutil.copy(test_imgs[k], dst)\n",
    "        num+=1"
   ]
  },
  {
   "cell_type": "code",
   "execution_count": 16,
   "metadata": {},
   "outputs": [
    {
     "name": "stdout",
     "output_type": "stream",
     "text": [
      "appendicitis\n",
      "[cv1]  train : 1567 test : 392\n",
      "[cv2]  train : 1553 test : 406\n",
      "[cv3]  train : 1554 test : 405\n",
      "[cv4]  train : 1558 test : 401\n",
      "[cv5]  train : 1604 test : 355\n",
      "diverticulitis\n",
      "[cv1]  train : 1316 test : 165\n",
      "[cv2]  train : 1310 test : 168\n",
      "[cv3]  train : 1304 test : 171\n",
      "[cv4]  train : 1308 test : 169\n",
      "[cv5]  train : 1346 test : 150\n"
     ]
    }
   ],
   "source": [
    "cvs=[1,2,3,4,5]\n",
    "labels=['appendicitis', 'diverticulitis']#diverticulitis no_lesion appendicitis\n",
    "path='D:/appendicitis/4_exp2_rgb/5_appendicitis-diverticulitis/'\n",
    "for label in labels:\n",
    "    print(label)\n",
    "    for cv in cvs:\n",
    "        train=path+'data/train/exp%d/%s/'%(cv,label)\n",
    "        test=path+'data/test/exp%d/%s/'%(cv,label)\n",
    "        trains=glob.glob(train+'*.png')\n",
    "        tests=glob.glob(test+'*.png')\n",
    "        print('[cv%d] '%cv,'train : %d'%len(trains), 'test : %s'%len(tests))"
   ]
  }
 ],
 "metadata": {
  "kernelspec": {
   "display_name": "Python 3",
   "language": "python",
   "name": "python3"
  },
  "language_info": {
   "codemirror_mode": {
    "name": "ipython",
    "version": 3
   },
   "file_extension": ".py",
   "mimetype": "text/x-python",
   "name": "python",
   "nbconvert_exporter": "python",
   "pygments_lexer": "ipython3",
   "version": "3.6.10"
  }
 },
 "nbformat": 4,
 "nbformat_minor": 4
}
