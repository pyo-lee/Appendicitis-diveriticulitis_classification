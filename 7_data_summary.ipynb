{
 "cells": [
  {
   "cell_type": "code",
   "execution_count": null,
   "metadata": {},
   "outputs": [],
   "source": [
    "import os\n",
    "import glob\n",
    "import pydicom\n",
    "import numpy as np\n",
    "import pandas as pd"
   ]
  },
  {
   "cell_type": "code",
   "execution_count": null,
   "metadata": {},
   "outputs": [],
   "source": [
    "b=['Appendicitis', 'Diverticulitis']\n",
    "pd_list = []\n",
    "for a in b:\n",
    "    PATH = './1_data_raw/data/'+a+'/'\n",
    "    pa_name_li = os.listdir(PATH)\n",
    "    \n",
    "    for i, patient_name in enumerate(pa_name_li):\n",
    "    #     if i==1:\n",
    "    #         break\n",
    "        dicom_path = glob.glob(PATH+patient_name+'/*.dcm')\n",
    "        ds = pydicom.read_file(dicom_path[10])\n",
    "        study_date = ds.StudyDate\n",
    "        acquistition_date = ds.AcquisitionDate\n",
    "        modality = ds.Modality\n",
    "        Id = ds.PatientID \n",
    "        slice_thickness = ds.SliceThickness \n",
    "        rows = ds.Rows\n",
    "        columns = ds.Columns\n",
    "        pixelspacing = ds.PixelSpacing[0]\n",
    "        small_pixel_value = ds.SmallestImagePixelValue\n",
    "        large_pixel_value = ds.LargestImagePixelValue\n",
    "    #     print(study_date, acquistition_date, modality, Id, slice_thickness, rows, columns ,pixelspacing)\n",
    "        tmp_li = [Id, study_date, acquistition_date, modality, slice_thickness, rows, columns ,pixelspacing, small_pixel_value, large_pixel_value]\n",
    "        pd_list.append(tmp_li)\n",
    "    \n",
    "df = pd.DataFrame(pd_list, columns=['Id','study_date', 'acquistition_date', 'modality', 'slice_thickness', 'rows', 'columns' ,'pixelspacing', 'smallest_pixel_value', 'largest_pixel_value'])"
   ]
  },
  {
   "cell_type": "code",
   "execution_count": null,
   "metadata": {},
   "outputs": [],
   "source": [
    "df['study_date'].min(), df['study_date'].max() "
   ]
  },
  {
   "cell_type": "code",
   "execution_count": null,
   "metadata": {},
   "outputs": [],
   "source": [
    "df['slice_thickness'].min(), df['slice_thickness'].max() "
   ]
  },
  {
   "cell_type": "code",
   "execution_count": null,
   "metadata": {},
   "outputs": [],
   "source": [
    "df['pixelspacing'].min(), df['pixelspacing'].max() "
   ]
  },
  {
   "cell_type": "code",
   "execution_count": null,
   "metadata": {},
   "outputs": [],
   "source": [
    "df['pixelspacing']"
   ]
  },
  {
   "cell_type": "code",
   "execution_count": null,
   "metadata": {},
   "outputs": [],
   "source": [
    "df['smallest_pixel_value'].min(), df['smallest_pixel_value'].max() "
   ]
  },
  {
   "cell_type": "code",
   "execution_count": null,
   "metadata": {},
   "outputs": [],
   "source": [
    "df['largest_pixel_value'].min(), df['largest_pixel_value'].max() "
   ]
  },
  {
   "cell_type": "code",
   "execution_count": null,
   "metadata": {},
   "outputs": [],
   "source": []
  }
 ],
 "metadata": {
  "kernelspec": {
   "display_name": "Python 3",
   "language": "python",
   "name": "python3"
  },
  "language_info": {
   "codemirror_mode": {
    "name": "ipython",
    "version": 3
   },
   "file_extension": ".py",
   "mimetype": "text/x-python",
   "name": "python",
   "nbconvert_exporter": "python",
   "pygments_lexer": "ipython3",
   "version": "3.6.10"
  }
 },
 "nbformat": 4,
 "nbformat_minor": 4
}
