{
 "cells": [
  {
   "cell_type": "code",
   "execution_count": null,
   "metadata": {},
   "outputs": [],
   "source": [
    "#파일을 읽어들이는 내장함수인 load_workbook을 불러옵니다.\n",
    "from openpyxl import load_workbook\n",
    "#파일이름이 angel.xlsx인 파일을 불러옵니다.\n",
    "angelEx=load_workbook(filename='result.xlsx')\n",
    "#불러온 엑셀 파일 중 데이터를 찾을 sheet의 이름을 입력합니다.\n",
    "sheet1 = angelEx['Sheet1']\n",
    "#활성화되어 있는 시트를 찾습니다.\n",
    "sheet2 = angelEx.active\n",
    "#Sheet1의 D4의 값을 출력합니다.\n",
    "print(sheet1['D4'].value)\n",
    "print(sheet2['D6'].value)\n",
    "\n",
    "#특정 범위의 데이터(번호와 성인명)만 불러오겠습니다.\n",
    "angels = []\n",
    "names = []\n",
    "#루프문을 이용해 sheet의 여러 행에 있는 데이터를 불러옵니다.\n",
    "for i in sheet1.rows:\n",
    "    name = i[1].value\n",
    "    pred= i[3].value\n",
    "    angel = (name, pred)\n",
    "    angels.append(angel)\n",
    "    \n",
    "    if '_0' in name[:10]:\n",
    "        names.append(name[:8])\n",
    "    else:\n",
    "        names.append(name[:10])\n",
    "len(angels)\n",
    "names.remove('name')\n",
    "names=list(set(names))\n",
    "names.sort()"
   ]
  },
  {
   "cell_type": "code",
   "execution_count": null,
   "metadata": {},
   "outputs": [],
   "source": [
    "indexs=[]\n",
    "for i in range(1,len(angels)):\n",
    "    tmp=angels[i][0]\n",
    "    print(tmp)\n",
    "    if '_1' in tmp:\n",
    "        tmp=angels[i][0][:10]\n",
    "        print(tmp)\n",
    "    elif '_2' in tmp:\n",
    "        tmp=angels[i][0][:10]\n",
    "        print(tmp)\n",
    "    elif '_3' in tmp:\n",
    "        tmp=angels[i][0][:10]\n",
    "        print(tmp)\n",
    "    \n",
    "    else:\n",
    "        tmp=angels[i][0][:8]\n",
    "    index=names.index(tmp)\n",
    "    indexs.append(index)\n"
   ]
  },
  {
   "cell_type": "code",
   "execution_count": null,
   "metadata": {},
   "outputs": [],
   "source": [
    "from collections import Counter\n",
    "\n",
    "indexs_2=list(Counter(indexs).values())\n",
    "sum(indexs_2)\n"
   ]
  },
  {
   "cell_type": "code",
   "execution_count": null,
   "metadata": {},
   "outputs": [],
   "source": [
    "m=1\n",
    "d_list=[]\n",
    "\n",
    "for k in range(len(indexs_2)):\n",
    "    tmp=[]\n",
    "    for i in range(indexs_2[k]):\n",
    "        tmp.append(angels[m])\n",
    "        m+=1\n",
    "    d_list.append(tmp)"
   ]
  },
  {
   "cell_type": "code",
   "execution_count": null,
   "metadata": {},
   "outputs": [],
   "source": [
    "i=15\n",
    "pred_li=[]\n",
    "# for i in range(len(d_list)):\n",
    "for k in range(len(d_list[i])):\n",
    "\n",
    "  #  print(d_list[i])\n",
    "    pred=d_list[i][k][1]\n",
    "    print(pred)\n",
    "    pred_li.append(pred)"
   ]
  },
  {
   "cell_type": "code",
   "execution_count": null,
   "metadata": {},
   "outputs": [],
   "source": [
    "ap=pred_li.count('appendicitis')\n",
    "di=pred_li.count('diverticulitis')\n",
    "no=pred_li.count('no_lesion')\n",
    "print(ap,di,no)"
   ]
  },
  {
   "cell_type": "code",
   "execution_count": null,
   "metadata": {},
   "outputs": [],
   "source": [
    "stats={'appendicitis':ap,'diverticulitis':di,'no_lesion':no}"
   ]
  },
  {
   "cell_type": "code",
   "execution_count": null,
   "metadata": {},
   "outputs": [],
   "source": [
    "max_key = max(stats, key=lambda k: stats[k])"
   ]
  },
  {
   "cell_type": "code",
   "execution_count": null,
   "metadata": {},
   "outputs": [],
   "source": [
    "import pandas as pd\n",
    "\n",
    "result=pd.DataFrame(columns=['patient_id','label','prediction'])\n",
    "for i in range(len(d_list)):\n",
    "    pred_li=[]\n",
    "    for k in range(len(d_list[i])):\n",
    "        pred=d_list[i][k][1]\n",
    "        pred_li.append(pred)\n",
    "    ap=pred_li.count('appendicitis')\n",
    "    di=pred_li.count('diverticulitis')\n",
    "    no=pred_li.count('no_lesion')\n",
    "\n",
    "    stats={'appendicitis':ap,'diverticulitis':di,'no_lesion':no}\n",
    "    \n",
    "    if (ap==di and ap>=no) or (ap==no and ap>=di) or (no==di and no>=ap):\n",
    "        #print(stats)\n",
    "        print(names[i],':','Undeterminated')\n",
    "        result=result.append({'patient_id':names[i],'label':'0','prediction':'Undeterminated'},ignore_index=True)\n",
    "    else:\n",
    "        max_key = max(stats, key=lambda k: stats[k])\n",
    "        print(names[i],':',max_key)\n",
    "        result=result.append({'patient_id':names[i],'label':'0','prediction':max_key},ignore_index=True)\n",
    "\n",
    "result.to_csv('D:/appendicitis/4_exp2_rgb/6_patient/result_pred.csv',index=False)\n"
   ]
  },
  {
   "cell_type": "code",
   "execution_count": null,
   "metadata": {},
   "outputs": [],
   "source": [
    "result=pd.DataFrame(columns=['patient_id','label','prediction'])\n",
    "result=result.append({'patient_id':names[i],'label':label,'prediction':max_key},ignore_index=True)\n"
   ]
  },
  {
   "cell_type": "code",
   "execution_count": null,
   "metadata": {},
   "outputs": [],
   "source": [
    "#파일을 읽어들이는 내장함수인 load_workbook을 불러옵니다.\n",
    "from openpyxl import load_workbook\n",
    "#파일이름이 angel.xlsx인 파일을 불러옵니다.\n",
    "angelEx=load_workbook(filename='D:/appendicitis/4_exp2_rgb/6_patient/result.xlsx')\n",
    "#불러온 엑셀 파일 중 데이터를 찾을 sheet의 이름을 입력합니다.\n",
    "sheet1 = angelEx['Sheet2']\n",
    "#활성화되어 있는 시트를 찾습니다.\n",
    "sheet2 = angelEx.active\n",
    "#Sheet1의 D4의 값을 출력합니다.\n",
    "print(sheet1['B7'].value)\n",
    "print(sheet2['D2'].value)\n",
    "\n",
    "#특정 범위의 데이터(번호와 성인명)만 불러오겠습니다.\n",
    "gts = []\n",
    "preds = []\n",
    "#루프문을 이용해 sheet의 여러 행에 있는 데이터를 불러옵니다.\n",
    "for i in sheet1.rows:\n",
    "    gt = i[1].value\n",
    "    pred= i[2].value\n",
    "    if gt=='appendicitis':\n",
    "        gt=0\n",
    "        gts.append(gt)\n",
    "    elif gt=='diverticulitis':\n",
    "        gt=1\n",
    "        gts.append(gt)\n",
    "    elif gt=='no_lesion':\n",
    "        gt=2\n",
    "        gts.append(gt)\n",
    "    elif gt=='Undeterminated':\n",
    "        gt=3\n",
    "        gts.append(gt)\n",
    "    \n",
    "    if pred=='appendicitis':\n",
    "        pred=0\n",
    "        preds.append(pred)\n",
    "    elif pred=='diverticulitis':\n",
    "        pred=1\n",
    "        preds.append(pred)\n",
    "    elif pred=='no_lesion':\n",
    "        pred=2\n",
    "        preds.append(pred)\n",
    "    elif pred=='Undeterminated':\n",
    "        pred=3\n",
    "        preds.append(pred)\n",
    "#     gts.append(gt)\n",
    "#     preds.append(pred)\n",
    "#gts.remove('label')\n",
    "#preds.remove('prediction')"
   ]
  },
  {
   "cell_type": "code",
   "execution_count": null,
   "metadata": {},
   "outputs": [],
   "source": [
    "from sklearn.metrics import confusion_matrix\n",
    "from sklearn.metrics import accuracy_score\n",
    "\n",
    "print(confusion_matrix(gts,preds))\n",
    "print(accuracy_score(gts,preds))\n"
   ]
  }
 ],
 "metadata": {
  "kernelspec": {
   "display_name": "Python 3",
   "language": "python",
   "name": "python3"
  },
  "language_info": {
   "codemirror_mode": {
    "name": "ipython",
    "version": 3
   },
   "file_extension": ".py",
   "mimetype": "text/x-python",
   "name": "python",
   "nbconvert_exporter": "python",
   "pygments_lexer": "ipython3",
   "version": "3.6.10"
  }
 },
 "nbformat": 4,
 "nbformat_minor": 4
}
