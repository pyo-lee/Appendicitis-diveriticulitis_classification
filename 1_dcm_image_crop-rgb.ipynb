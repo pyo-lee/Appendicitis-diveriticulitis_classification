{
 "cells": [
  {
   "cell_type": "code",
   "execution_count": 1,
   "metadata": {},
   "outputs": [],
   "source": [
    "import os\n",
    "import glob\n",
    "import pydicom\n",
    "import cv2\n",
    "import numpy as np\n",
    "from read_roi import read_roi_zip\n",
    "import zipfile"
   ]
  },
  {
   "cell_type": "code",
   "execution_count": 2,
   "metadata": {},
   "outputs": [],
   "source": [
    "def get_LUT_value(data, window, level):\n",
    "    try:\n",
    "        window = 350\n",
    "    except TypeError:\n",
    "        pass\n",
    "    try:\n",
    "        level = 50\n",
    "    except TypeError:\n",
    "        pass\n",
    "\n",
    "    return np.piecewise(data,\n",
    "                        [data <= (level - 0.5 - (window - 1) / 2),\n",
    "                         data > (level - 0.5 + (window - 1) / 2)],\n",
    "                        [0, 255, lambda data: ((data - (level - 0.5)) /\n",
    "                         (window - 1) + 0.5) * (255 - 0)])\n",
    "\n",
    "def CreateFolder(directory):\n",
    "    try:\n",
    "        if not os.path.exists(directory):\n",
    "            os.makedirs(directory)\n",
    "    except OSError:\n",
    "        print(\"Error:Creating dirextory.\"+directory)"
   ]
  },
  {
   "cell_type": "code",
   "execution_count": 3,
   "metadata": {},
   "outputs": [],
   "source": [
    "dcm_path = 'D:/appendicitis/1_data_raw/data/Appendicitis/' # dcm 파일 폴더\n",
    "file_extention = '.png' # 파일 확장자\n",
    "file_dcm_path = [] # jpg 저장할 환자 폴더\n",
    "roi_zip_path=[]\n",
    "dcm_file_name = os.listdir(dcm_path) # 환자 폴더\n",
    "dcm_file_name.sort()\n",
    "\n",
    "for i in range(len(dcm_file_name)):\n",
    "    name = dcm_path + dcm_file_name[i] + '/'\n",
    "    file_dcm_path.append(name)\n",
    "    roi_zip = dcm_path + dcm_file_name[i] + '/' + dcm_file_name[i] + '.zip'\n",
    "    roi_zip_path.append(roi_zip)\n",
    "# print(len(file_dcm_path), file_dcm_path)\n",
    "# print(len(roi_zip_path),roi_zip_path)"
   ]
  },
  {
   "cell_type": "code",
   "execution_count": 4,
   "metadata": {},
   "outputs": [],
   "source": [
    "zip_list_all = [] # roi 이름 저장\n",
    "\n",
    "for i in range(len(roi_zip_path)):\n",
    "    zip_file = zipfile.ZipFile(roi_zip_path[i])\n",
    "    zip_list = zip_file.namelist()\n",
    "    zip_list.sort()\n",
    "    zip_list_all.append(zip_list)"
   ]
  },
  {
   "cell_type": "code",
   "execution_count": null,
   "metadata": {},
   "outputs": [],
   "source": [
    "dir_path='D:/appendicitis/1_data_rgb/Appendicitis_rgb_png_256/'\n",
    "CreateFolder(dir_path)\n",
    "counts=[]\n",
    "for i in range(len(file_dcm_path)):\n",
    "    count=0\n",
    "    count1=0\n",
    "    dcm = glob.glob(file_dcm_path[i]+ '/' + '*.dcm')\n",
    "    for k in range(len(zip_list_all[i])):\n",
    "        roi_name = zip_list_all[i][k][:4]\n",
    "        #print(roi_name)\n",
    "        dcm_name = str(int(roi_name)-1).zfill(4)\n",
    "        if len(zip_list_all[i])>1:\n",
    "            if k==0:\n",
    "                dcm_name_before = str(int(roi_name)-2).zfill(4)\n",
    "                path_before = file_dcm_path[i] + dcm_file_name[i] +'_'+ dcm_name_before + '.dcm'\n",
    "            elif k==len(zip_list_all[i])-1:\n",
    "                dcm_name_after=str(int(roi_name)).zfill(4)\n",
    "                path_after = file_dcm_path[i] + dcm_file_name[i] +'_'+ dcm_name_after + '.dcm'\n",
    "        else:\n",
    "            dcm_name_before = str(int(roi_name)-2).zfill(4)\n",
    "            path_before = file_dcm_path[i] + dcm_file_name[i] +'_'+ dcm_name_before + '.dcm'\n",
    "            dcm_name_after=str(int(roi_name)).zfill(4)\n",
    "            path_after = file_dcm_path[i] + dcm_file_name[i] +'_'+ dcm_name_after + '.dcm'\n",
    "        #print(dcm_name)\n",
    "        path = file_dcm_path[i] + dcm_file_name[i] +'_'+ dcm_name + '.dcm'\n",
    "        #print(path)\n",
    "        try:\n",
    "            ds = pydicom.read_file(path)\n",
    "        except:\n",
    "            path = file_dcm_path[i] + dcm_file_name[i] + dcm_name + '.dcm'\n",
    "            print(path)\n",
    "            ds=pydicom.read_file(path)\n",
    "        ArrayDicom = ds.pixel_array\n",
    "        ArrayDicom = ds.RescaleSlope*ArrayDicom+ds.RescaleIntercept\n",
    "        ArrayDicom = get_LUT_value(ArrayDicom, ds.WindowWidth, ds.WindowCenter) #설정은 함수에서 조절하기\n",
    "        file_name = dcm_file_name[i] +'_'+ dcm_name\n",
    "        CreateFolder(dir_path+dcm_file_name[i]+'/')\n",
    "        cv2.imwrite(dir_path+dcm_file_name[i]+'/'+file_name+'.png', ArrayDicom)\n",
    "        count+=1\n",
    "        count1+=1\n",
    "        cv2.imwrite(file_name+'.png', ArrayDicom)\n",
    "    #print(path_before, path_after)\n",
    "    bfs=[path_before,path_after]\n",
    "    name=[dcm_name_before,dcm_name_after]\n",
    "    m=0\n",
    "    for bf in bfs:\n",
    "        path = bf\n",
    "        #print(path)\n",
    "        try:\n",
    "            ds = pydicom.read_file(path)\n",
    "        except:\n",
    "            path = file_dcm_path[i] + dcm_file_name[i] + name[m] + '.dcm'\n",
    "            print(path)\n",
    "            ds=pydicom.read_file(path)\n",
    "        ArrayDicom = ds.pixel_array\n",
    "        ArrayDicom = ds.RescaleSlope*ArrayDicom+ds.RescaleIntercept\n",
    "        ArrayDicom = get_LUT_value(ArrayDicom, ds.WindowWidth, ds.WindowCenter) #설정은 함수에서 조절하기\n",
    "        file_name = dcm_file_name[i] +'_'+ name[m]\n",
    "        CreateFolder(dir_path+dcm_file_name[i]+'/')\n",
    "        cv2.imwrite(dir_path+dcm_file_name[i]+'/'+file_name+'.png', ArrayDicom)\n",
    "        m+=1\n",
    "        count+=1\n",
    "    counts.append(count)\n",
    "    #print(count, count1, count-count1)\n"
   ]
  },
  {
   "cell_type": "markdown",
   "metadata": {},
   "source": [
    "# 영역 crop "
   ]
  },
  {
   "cell_type": "markdown",
   "metadata": {},
   "source": [
    "# DICOM 파일 경로와 ROI zip 경로 저장 "
   ]
  },
  {
   "cell_type": "code",
   "execution_count": 8,
   "metadata": {},
   "outputs": [],
   "source": [
    "dcm_path = 'D:/appendicitis/1_data_rgb/Appendicitis_rgb_png_256/' # png 파일 폴더\n",
    "file_extention = '.png' # 파일 확장자\n",
    "file_dcm_path = [] # jpg 저장할 환자 폴더\n",
    "roi_zip_path=[]\n",
    "dcm_file_name = os.listdir(dcm_path) # 환자 폴더\n",
    "dcm_file_name.sort()\n",
    "\n",
    "for i in range(len(dcm_file_name)):\n",
    "    name = dcm_path + dcm_file_name[i] + '/'\n",
    "    file_dcm_path.append(name)\n",
    "    roi_zip = dcm_path + dcm_file_name[i] + '/' + dcm_file_name[i] + '.zip'\n",
    "    roi_zip_path.append(roi_zip)\n",
    "# print(len(file_dcm_path), file_dcm_path)\n",
    "# print(len(roi_zip_path),roi_zip_path)"
   ]
  },
  {
   "cell_type": "markdown",
   "metadata": {},
   "source": [
    "# ROI 정보 저장"
   ]
  },
  {
   "cell_type": "code",
   "execution_count": 9,
   "metadata": {},
   "outputs": [],
   "source": [
    "zip_list_all = [] # roi 이름 저장\n",
    "roi_zip_path=glob.glob('D:/appendicitis/1_data_raw/data/Appendicitis_roi/'+'*.zip')\n",
    "for i in range(len(roi_zip_path)):\n",
    "    zip_file = zipfile.ZipFile(roi_zip_path[i])\n",
    "    zip_list = zip_file.namelist()\n",
    "    zip_list.sort()\n",
    "    zip_list_all.append(zip_list)"
   ]
  },
  {
   "cell_type": "code",
   "execution_count": 10,
   "metadata": {},
   "outputs": [
    {
     "data": {
      "text/plain": [
       "246"
      ]
     },
     "execution_count": 10,
     "metadata": {},
     "output_type": "execute_result"
    }
   ],
   "source": [
    "len(zip_list_all)"
   ]
  },
  {
   "cell_type": "markdown",
   "metadata": {},
   "source": [
    "# Crop"
   ]
  },
  {
   "cell_type": "code",
   "execution_count": null,
   "metadata": {},
   "outputs": [],
   "source": [
    "import random\n",
    "mask_path = 'D:/appendicitis/1_data_rgb/Appendicitis_rgb_crop_256/'\n",
    "dir_path='D:/appendicitis/1_data_rgb/Appendicitis_rgb_png_256/'\n",
    "CreateFolder(mask_path)\n",
    "a=[0,-1]\n",
    "for i in range(len(zip_list_all)):\n",
    "#for i in range(1):\n",
    "    for k in range(len(zip_list_all[i])):\n",
    "        png_path=dir_path+dcm_file_name[i]+'/'\n",
    "        file = glob.glob(png_path+'*.png')\n",
    "        roi = read_roi_zip(roi_zip_path[i])\n",
    "        name = zip_list_all[i][k][:14]\n",
    "        img = cv2.imread(file[k+1])\n",
    "        left_top = roi[name]['left'], roi[name]['top']\n",
    "        right_bottom = left_top[0]+roi[name]['width'], left_top[1]+roi[name]['height']\n",
    "#         print(left_top,right_bottom)\n",
    "        crop=img.copy()\n",
    "        crop_img=crop[left_top[1]:right_bottom[1],left_top[0]:right_bottom[0]]\n",
    "        dcm_name = str(int(zip_list_all[i][k][:4])-1).zfill(4)\n",
    "        file_name = dcm_file_name[i] +'_'+ dcm_name\n",
    "        print(file_name)\n",
    "        CreateFolder(mask_path+'/'+dcm_file_name[i]+'/')\n",
    "        cv2.imwrite(mask_path+'/'+dcm_file_name[i]+'/'+file_name+'.png', crop_img)\n",
    "    \n",
    "    for m in a:\n",
    "        #print(m)\n",
    "        roi = read_roi_zip(roi_zip_path[i])\n",
    "        name = zip_list_all[i][m][:14]\n",
    "        img = cv2.imread(file[m])\n",
    "        left_top = roi[name]['left'], roi[name]['top']\n",
    "        right_bottom = left_top[0]+roi[name]['width'], left_top[1]+roi[name]['height']\n",
    "    #         print(left_top,right_bottom)\n",
    "        crop=img.copy()\n",
    "        crop_img=crop[left_top[1]:right_bottom[1],left_top[0]:right_bottom[0]]\n",
    "        if m==a[0]:\n",
    "            dcm_name = str(int(zip_list_all[i][m][:4])-2).zfill(4)\n",
    "            file_name = dcm_file_name[i] +'_'+ dcm_name\n",
    "            print(file_name)\n",
    "        elif m==a[-1]:\n",
    "            dcm_name = str(int(zip_list_all[i][m][:4])).zfill(4)\n",
    "            file_name = dcm_file_name[i] +'_'+ dcm_name\n",
    "            print(file_name)\n",
    "        CreateFolder(mask_path+'/'+dcm_file_name[i]+'/')\n",
    "        cv2.imwrite(mask_path+'/'+dcm_file_name[i]+'/'+file_name+'.png', crop_img)"
   ]
  }
 ],
 "metadata": {
  "kernelspec": {
   "display_name": "Python 3",
   "language": "python",
   "name": "python3"
  },
  "language_info": {
   "codemirror_mode": {
    "name": "ipython",
    "version": 3
   },
   "file_extension": ".py",
   "mimetype": "text/x-python",
   "name": "python",
   "nbconvert_exporter": "python",
   "pygments_lexer": "ipython3",
   "version": "3.6.10"
  }
 },
 "nbformat": 4,
 "nbformat_minor": 4
}
