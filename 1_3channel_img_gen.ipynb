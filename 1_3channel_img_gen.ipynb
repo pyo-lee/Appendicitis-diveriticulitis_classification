{
 "cells": [
  {
   "cell_type": "code",
   "execution_count": 1,
   "metadata": {},
   "outputs": [],
   "source": [
    "import glob\n",
    "import os\n",
    "import cv2\n",
    "\n",
    "def CreateFolder(directory):\n",
    "    try:\n",
    "        if not os.path.exists(directory):\n",
    "            os.makedirs(directory)\n",
    "    except OSError:\n",
    "        print(\"Error:Creating dirextory.\"+directory)"
   ]
  },
  {
   "cell_type": "code",
   "execution_count": null,
   "metadata": {},
   "outputs": [],
   "source": [
    "path='D:/appendicitis/1_data_rgb/Appendicitis_rgb_crop_256'\n",
    "save_path='D:/appendicitis/1_data_rgb/Appendicitis_rgb_img_256'\n",
    "CreateFolder(save_path)\n",
    "\n",
    "f_path=os.listdir(path)\n",
    "# for i in range(1):\n",
    "for i in range(len(f_path)):\n",
    "    #print(i)\n",
    "    img_path=path+'/'+f_path[i]\n",
    "    print(img_path)\n",
    "    i_path=os.listdir(img_path)\n",
    "    for k in range(len(i_path)-2):\n",
    "        #print(k)\n",
    "        img_b=cv2.imread(img_path+'/'+i_path[k], cv2.IMREAD_COLOR )\n",
    "        img=cv2.imread(img_path+'/'+i_path[k+1], cv2.IMREAD_COLOR )\n",
    "        img_a=cv2.imread(img_path+'/'+i_path[k+2], cv2.IMREAD_COLOR )\n",
    "        if img_b.shape==img.shape==img_a.shape:\n",
    "            img[:,:,2]=img_b[:,:,2]\n",
    "            img[:,:,0]=img_a[:,:,0]\n",
    "        else:\n",
    "            img_b=cv2.resize(img_b,dsize=(img.shape[0],img.shape[1]))\n",
    "            img_a=cv2.resize(img_a,dsize=(img.shape[0],img.shape[1]))\n",
    "            img[:,:,2]=img_b[:,:,2]\n",
    "            img[:,:,0]=img_a[:,:,0]\n",
    "        CreateFolder(save_path+'/'+f_path[i])\n",
    "        cv2.imwrite(save_path+'/'+f_path[i]+'/'+i_path[k+1],img)"
   ]
  }
 ],
 "metadata": {
  "kernelspec": {
   "display_name": "Python 3",
   "language": "python",
   "name": "python3"
  },
  "language_info": {
   "codemirror_mode": {
    "name": "ipython",
    "version": 3
   },
   "file_extension": ".py",
   "mimetype": "text/x-python",
   "name": "python",
   "nbconvert_exporter": "python",
   "pygments_lexer": "ipython3",
   "version": "3.6.10"
  }
 },
 "nbformat": 4,
 "nbformat_minor": 4
}
