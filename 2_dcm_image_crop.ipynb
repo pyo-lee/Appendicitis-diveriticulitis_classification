{
 "cells": [
  {
   "cell_type": "code",
   "execution_count": 1,
   "metadata": {},
   "outputs": [],
   "source": [
    "import os\n",
    "import glob\n",
    "import pydicom\n",
    "import cv2\n",
    "import numpy as np\n",
    "from read_roi import read_roi_zip\n",
    "import zipfile"
   ]
  },
  {
   "cell_type": "code",
   "execution_count": 2,
   "metadata": {},
   "outputs": [],
   "source": [
    "def get_LUT_value(data, window, level):\n",
    "    try:\n",
    "        window = 350\n",
    "    except TypeError:\n",
    "        pass\n",
    "    try:\n",
    "        level = 50\n",
    "    except TypeError:\n",
    "        pass\n",
    "\n",
    "    return np.piecewise(data,\n",
    "                        [data <= (level - 0.5 - (window - 1) / 2),\n",
    "                         data > (level - 0.5 + (window - 1) / 2)],\n",
    "                        [0, 255, lambda data: ((data - (level - 0.5)) /\n",
    "                         (window - 1) + 0.5) * (255 - 0)])\n",
    "\n",
    "def CreateFolder(directory):\n",
    "    try:\n",
    "        if not os.path.exists(directory):\n",
    "            os.makedirs(directory)\n",
    "    except OSError:\n",
    "        print(\"Error:Creating dirextory.\"+directory)"
   ]
  },
  {
   "cell_type": "code",
   "execution_count": 11,
   "metadata": {},
   "outputs": [],
   "source": [
    "dcm_path = 'D:/appendicitis/1_data_raw/data/No_lesion/' # dcm 파일 폴더\n",
    "file_extention = '.png' # 파일 확장자\n",
    "file_dcm_path = [] # jpg 저장할 환자 폴더\n",
    "roi_zip_path=[]\n",
    "dcm_file_name = os.listdir(dcm_path) # 환자 폴더\n",
    "dcm_file_name.sort()\n",
    "\n",
    "for i in range(len(dcm_file_name)):\n",
    "    name = dcm_path + dcm_file_name[i] + '/'\n",
    "    file_dcm_path.append(name)\n",
    "    roi_zip = dcm_path + dcm_file_name[i] + '/' + dcm_file_name[i] + '.zip'\n",
    "    roi_zip_path.append(roi_zip)\n",
    "# print(len(file_dcm_path), file_dcm_path)\n",
    "# print(len(roi_zip_path),roi_zip_path)"
   ]
  },
  {
   "cell_type": "code",
   "execution_count": 12,
   "metadata": {},
   "outputs": [],
   "source": [
    "zip_list_all = [] # roi 이름 저장\n",
    "\n",
    "for i in range(len(roi_zip_path)):\n",
    "    zip_file = zipfile.ZipFile(roi_zip_path[i])\n",
    "    zip_list = zip_file.namelist()\n",
    "    zip_list.sort()\n",
    "    zip_list_all.append(zip_list)"
   ]
  },
  {
   "cell_type": "code",
   "execution_count": null,
   "metadata": {},
   "outputs": [],
   "source": [
    "dir_path='D:/appendicitis/1_data_raw/data/No_lesion_png_2/'\n",
    "CreateFolder(dir_path)\n",
    "for i in range(len(file_dcm_path)):\n",
    "    dcm = glob.glob(file_dcm_path[i]+ '/' + '*.dcm')\n",
    "    \n",
    "    for k in range(len(zip_list_all[i])):\n",
    "        roi_name = zip_list_all[i][k][:4]\n",
    "        #print(roi_name)\n",
    "        dcm_name = str(int(roi_name)-1).zfill(4)\n",
    "        #print(dcm_name)\n",
    "        path = file_dcm_path[i] + dcm_file_name[i] +'_'+ dcm_name + '.dcm'\n",
    "        print(path)\n",
    "        try:\n",
    "            ds = pydicom.read_file(path)\n",
    "        except:\n",
    "            path = file_dcm_path[i] + dcm_file_name[i] + dcm_name + '.dcm'\n",
    "            ds=pydicom.read_file(path)\n",
    "        ArrayDicom = ds.pixel_array\n",
    "        ArrayDicom = ds.RescaleSlope*ArrayDicom+ds.RescaleIntercept\n",
    "        ArrayDicom = get_LUT_value(ArrayDicom, ds.WindowWidth, ds.WindowCenter) #설정은 함수에서 조절하기\n",
    "        file_name = dcm_file_name[i] +'_'+ dcm_name\n",
    "        CreateFolder(dir_path+dcm_file_name[i]+'/')\n",
    "        cv2.imwrite(dir_path+dcm_file_name[i]+'/'+file_name+'.png', ArrayDicom)\n",
    "#         cv2.imwrite(file_name+'.png', ArrayDicom)"
   ]
  },
  {
   "cell_type": "markdown",
   "metadata": {},
   "source": [
    "# 영역 crop "
   ]
  },
  {
   "cell_type": "code",
   "execution_count": 65,
   "metadata": {},
   "outputs": [],
   "source": [
    "i=25\n",
    "png_path='D:/appendicitis/No_lesion_png/'+dcm_file_name[i]+'/'\n",
    "\n",
    "file = glob.glob(png_path+'*.png')"
   ]
  },
  {
   "cell_type": "code",
   "execution_count": 66,
   "metadata": {},
   "outputs": [
    {
     "data": {
      "text/plain": [
       "{'type': 'rectangle',\n",
       " 'left': 107,\n",
       " 'top': 256,\n",
       " 'width': 46,\n",
       " 'height': 46,\n",
       " 'arc_size': 0,\n",
       " 'name': '0063-0279-0130',\n",
       " 'position': 63}"
      ]
     },
     "execution_count": 66,
     "metadata": {},
     "output_type": "execute_result"
    }
   ],
   "source": [
    "roi = read_roi_zip(roi_zip_path[i])\n",
    "name = zip_list_all[i][k][:14]\n",
    "roi[name]"
   ]
  },
  {
   "cell_type": "code",
   "execution_count": 67,
   "metadata": {},
   "outputs": [
    {
     "name": "stdout",
     "output_type": "stream",
     "text": [
      "(107, 256) (153, 302)\n"
     ]
    }
   ],
   "source": [
    "img = cv2.imread(file[k])\n",
    "left_top = roi[name]['left'], roi[name]['top']\n",
    "right_bottom = left_top[0]+roi[name]['width'], left_top[1]+roi[name]['height']\n",
    "print(left_top,right_bottom)"
   ]
  },
  {
   "cell_type": "code",
   "execution_count": 112,
   "metadata": {},
   "outputs": [],
   "source": [
    "crop=img.copy()\n",
    "crop_img=crop[left_top[1]:right_bottom[1],left_top[0]:right_bottom[0]]"
   ]
  },
  {
   "cell_type": "code",
   "execution_count": 113,
   "metadata": {},
   "outputs": [],
   "source": [
    "# crop_img=cv2.resize(crop_img, None,fx=3, fy=3)\n",
    "# cv2.imshow('',crop_img)\n",
    "# cv2.waitKey()\n",
    "# cv2.destroyAllWindows()"
   ]
  },
  {
   "cell_type": "code",
   "execution_count": 114,
   "metadata": {},
   "outputs": [],
   "source": [
    "CreateFolder('D:/appendicitis/data/')"
   ]
  },
  {
   "cell_type": "markdown",
   "metadata": {},
   "source": [
    "# DICOM 파일 경로와 ROI zip 경로 저장 "
   ]
  },
  {
   "cell_type": "code",
   "execution_count": 30,
   "metadata": {},
   "outputs": [],
   "source": [
    "dcm_path = 'D:/appendicitis/1_data_raw/data/No_lesion_png_2/'# png 파일 폴더\n",
    "file_extention = '.png' # 파일 확장자\n",
    "file_dcm_path = [] # jpg 저장할 환자 폴더\n",
    "roi_zip_path=[]\n",
    "dcm_file_name = os.listdir(dcm_path) # 환자 폴더\n",
    "dcm_file_name.sort()\n",
    "\n",
    "for i in range(len(dcm_file_name)):\n",
    "    name = dcm_path + dcm_file_name[i] + '/'\n",
    "    file_dcm_path.append(name)\n",
    "    roi_zip = dcm_path + dcm_file_name[i] + '/' + dcm_file_name[i] + '.zip'\n",
    "    roi_zip_path.append(roi_zip)\n",
    "# print(len(file_dcm_path), file_dcm_path)\n",
    "# print(len(roi_zip_path),roi_zip_path)"
   ]
  },
  {
   "cell_type": "markdown",
   "metadata": {},
   "source": [
    "# ROI 정보 저장"
   ]
  },
  {
   "cell_type": "code",
   "execution_count": 31,
   "metadata": {},
   "outputs": [],
   "source": [
    "zip_list_all = [] # roi 이름 저장\n",
    "roi_zip_path=glob.glob('D:/appendicitis/1_data_raw/data/No_lesion_roi/'+'*.zip')\n",
    "for i in range(len(roi_zip_path)):\n",
    "    zip_file = zipfile.ZipFile(roi_zip_path[i])\n",
    "    zip_list = zip_file.namelist()\n",
    "    zip_list.sort()\n",
    "    zip_list_all.append(zip_list)"
   ]
  },
  {
   "cell_type": "markdown",
   "metadata": {},
   "source": [
    "# Crop"
   ]
  },
  {
   "cell_type": "code",
   "execution_count": null,
   "metadata": {},
   "outputs": [],
   "source": [
    "import random\n",
    "mask_path = 'D:/appendicitis/1_data_crop/No_lesion_crop_all' #저장할 경로\n",
    "dir_path='D:/appendicitis/1_data_raw/data/No_lesion_png_2/' # 이미지 경로\n",
    "CreateFolder(mask_path)\n",
    "\n",
    "for i in range(len(zip_list_all)):\n",
    "#     if len(zip_list_all[i])>=4:\n",
    "#         for m in range(4):\n",
    "#             k=random.randrange(0,len(zip_list_all[i])-1)\n",
    "#             png_path=dir_path+dcm_file_name[i]+'/'\n",
    "#             file = glob.glob(png_path+'*.png')\n",
    "#            # roi = read_roi_zip(roi_zip_path[i])\n",
    "#             name = zip_list_all[i][k][:14]\n",
    "#             img = cv2.imread(file[k])\n",
    "# #             left_top = roi[name]['left'], roi[name]['top']\n",
    "# #             right_bottom = left_top[0]+roi[name]['width'], left_top[1]+roi[name]['height']\n",
    "# #     #         print(left_top,right_bottom)\n",
    "# #             crop=img.copy()\n",
    "# #             crop_img=crop[left_top[1]:right_bottom[1],left_top[0]:right_bottom[0]]\n",
    "#             dcm_name = str(int(zip_list_all[i][k][:4])-1).zfill(4)\n",
    "#             file_name = dcm_file_name[i] +'_'+ dcm_name\n",
    "#             print(file_name)\n",
    "#             CreateFolder(mask_path+'/'+dcm_file_name[i]+'/')\n",
    "#             cv2.imwrite(mask_path+'/'+dcm_file_name[i]+'/'+file_name+'.png', img)\n",
    "#             del zip_list_all[i][k]\n",
    "#             if len(zip_list_all[i])==1:\n",
    "#                 break\n",
    "#     else:\n",
    "    for k in range(len(zip_list_all[i])):\n",
    "        png_path=dir_path+dcm_file_name[i]+'/'\n",
    "        file = glob.glob(png_path+'*.png')\n",
    "        roi = read_roi_zip(roi_zip_path[i])\n",
    "        name = zip_list_all[i][k][:14]\n",
    "        img = cv2.imread(file[k])\n",
    "        left_top = roi[name]['left'], roi[name]['top']\n",
    "        right_bottom = left_top[0]+roi[name]['width'], left_top[1]+roi[name]['height']\n",
    "#         print(left_top,right_bottom)\n",
    "        crop=img.copy()\n",
    "        crop_img=crop[left_top[1]:right_bottom[1],left_top[0]:right_bottom[0]]\n",
    "        dcm_name = str(int(zip_list_all[i][k][:4])-1).zfill(4)\n",
    "        file_name = dcm_file_name[i] +'_'+ dcm_name\n",
    "        print(file_name)\n",
    "        CreateFolder(mask_path+'/'+dcm_file_name[i]+'/')\n",
    "        cv2.imwrite(mask_path+'/'+dcm_file_name[i]+'/'+file_name+'.png', crop_img)"
   ]
  },
  {
   "cell_type": "markdown",
   "metadata": {},
   "source": [
    "# Random downsampling"
   ]
  },
  {
   "cell_type": "code",
   "execution_count": null,
   "metadata": {},
   "outputs": [],
   "source": [
    "import random\n",
    "mask_path = 'D:/appendicitis/3_detection/train_appendicitis_png/'\n",
    "dir_path='D:/appendicitis/1_data_raw/data2/Appendicitis_png_2/'\n",
    "CreateFolder(mask_path)\n",
    "\n",
    "for i in range(len(zip_list_all)):\n",
    "    if len(zip_list_all[i])>=4:\n",
    "        for m in range(4):\n",
    "            k=random.randrange(0,len(zip_list_all[i])-1)\n",
    "            png_path=dir_path+dcm_file_name[i]+'/'\n",
    "            file = glob.glob(png_path+'*.png')\n",
    "           # roi = read_roi_zip(roi_zip_path[i])\n",
    "            name = zip_list_all[i][k][:14]\n",
    "            img = cv2.imread(file[k])\n",
    "#             left_top = roi[name]['left'], roi[name]['top']\n",
    "#             right_bottom = left_top[0]+roi[name]['width'], left_top[1]+roi[name]['height']\n",
    "#     #         print(left_top,right_bottom)\n",
    "#             crop=img.copy()\n",
    "#             crop_img=crop[left_top[1]:right_bottom[1],left_top[0]:right_bottom[0]]\n",
    "            dcm_name = str(int(zip_list_all[i][k][:4])-1).zfill(4)\n",
    "            file_name = dcm_file_name[i] +'_'+ dcm_name\n",
    "            print(file_name)\n",
    "            CreateFolder(mask_path+'/'+dcm_file_name[i]+'/')\n",
    "            cv2.imwrite(mask_path+'/'+dcm_file_name[i]+'/'+file_name+'.png', img)\n",
    "            del zip_list_all[i][k]\n",
    "            if len(zip_list_all[i])==1:\n",
    "                break\n",
    "    else:\n",
    "        for k in range(len(zip_list_all[i])):\n",
    "            png_path=dir_path+dcm_file_name[i]+'/'\n",
    "            file = glob.glob(png_path+'*.png')\n",
    "            #roi = read_roi_zip(roi_zip_path[i])\n",
    "            name = zip_list_all[i][k][:14]\n",
    "            img = cv2.imread(file[k])\n",
    "#             left_top = roi[name]['left'], roi[name]['top']\n",
    "#             right_bottom = left_top[0]+roi[name]['width'], left_top[1]+roi[name]['height']\n",
    "#     #         print(left_top,right_bottom)\n",
    "#             crop=img.copy()\n",
    "#             crop_img=crop[left_top[1]:right_bottom[1],left_top[0]:right_bottom[0]]\n",
    "#             dcm_name = str(int(zip_list_all[i][k][:4])-1).zfill(4)\n",
    "            file_name = dcm_file_name[i] +'_'+ dcm_name\n",
    "            print(file_name)\n",
    "            CreateFolder(mask_path+'/'+dcm_file_name[i]+'/')\n",
    "            cv2.imwrite(mask_path+'/'+dcm_file_name[i]+'/'+file_name+'.png', img)"
   ]
  }
 ],
 "metadata": {
  "kernelspec": {
   "display_name": "Python 3",
   "language": "python",
   "name": "python3"
  },
  "language_info": {
   "codemirror_mode": {
    "name": "ipython",
    "version": 3
   },
   "file_extension": ".py",
   "mimetype": "text/x-python",
   "name": "python",
   "nbconvert_exporter": "python",
   "pygments_lexer": "ipython3",
   "version": "3.6.10"
  }
 },
 "nbformat": 4,
 "nbformat_minor": 4
}
